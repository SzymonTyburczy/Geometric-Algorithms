{
 "cells": [
  {
   "metadata": {},
   "cell_type": "markdown",
   "source": "# Implementacja struktury danych KD-Tree",
   "id": "5b671a2f3a57e639"
  },
  {
   "metadata": {
    "ExecuteTime": {
     "end_time": "2025-01-05T00:02:53.267997Z",
     "start_time": "2025-01-05T00:02:52.215918Z"
    }
   },
   "cell_type": "code",
   "source": [
    "import numpy as np\n",
    "import pandas as pd\n",
    "import matplotlib.pyplot as plt\n",
    "from bitalg.visualizer.main import Visualizer"
   ],
   "id": "593b59760545bcb6",
   "outputs": [],
   "execution_count": 4
  },
  {
   "metadata": {},
   "cell_type": "markdown",
   "source": "### Funkcje służące do generowania zbiorów testowych",
   "id": "1f8d0df7a9438621"
  },
  {
   "metadata": {},
   "cell_type": "code",
   "outputs": [],
   "execution_count": null,
   "source": [
    "def generate_random_uniform_points(n, low, high):\n",
    "    points = []\n",
    "    for i in range(n):\n",
    "        points.append((np.random.uniform(low, high),np.random.uniform(low, high)))\n",
    "    return points"
   ],
   "id": "bc52abdcc56a4383"
  },
  {
   "metadata": {
    "ExecuteTime": {
     "end_time": "2025-01-04T18:53:02.141577Z",
     "start_time": "2025-01-04T18:53:02.122522Z"
    }
   },
   "cell_type": "code",
   "source": [
    "def interactive_add_points(given_points=None):\n",
    "    if given_points is not None:\n",
    "        points = given_points\n",
    "    points = []\n",
    "\n",
    "    def on_click(event):\n",
    "        if event.button == 1 and event.inaxes and event.dblclick:\n",
    "            x, y = event.xdata, event.ydata\n",
    "            points.append((x, y))\n",
    "            ax.plot(x, y, 'ro')\n",
    "            plt.draw()\n",
    "\n",
    "\n",
    "        elif event.button == 3 and event.dblclick:\n",
    "            fig.canvas.mpl_disconnect(cid)\n",
    "            ax.set_title(\"Rysowanie zakończone. Punkty zapisane.\")\n",
    "            plt.draw()\n",
    "            plt.pause(1)\n",
    "            plt.close()\n",
    "            return points\n",
    "    fig, ax = plt.subplots()\n",
    "    ax.set_title(\n",
    "        \"Lewy podwójny click dodaje punkt,\\n Prawy podwójny click kończy rysowanie.\"\n",
    "    )\n",
    "    ax.set_xlim(0, 10)\n",
    "    ax.set_ylim(0, 10)\n",
    "    ax.axhline(0, color=\"black\", linewidth=0.5)\n",
    "    ax.axvline(0, color=\"black\", linewidth=0.5)\n",
    "    ax.grid(color=\"gray\", linestyle=\"--\", linewidth=0.5)\n",
    "\n",
    "    cid = fig.canvas.mpl_connect(\"button_press_event\", on_click)\n",
    "\n",
    "    plt.show()\n",
    "    return points"
   ],
   "id": "24f2161ab51f0595",
   "outputs": [],
   "execution_count": 2
  },
  {
   "metadata": {},
   "cell_type": "markdown",
   "source": "## Implementacja struktury KD-Tree",
   "id": "8990cc1fdc16f52a"
  },
  {
   "metadata": {},
   "cell_type": "markdown",
   "source": "### funkcja quicksort używana do wstępnego sortowania punktów",
   "id": "9ca8afaa833062a"
  },
  {
   "metadata": {
    "ExecuteTime": {
     "end_time": "2025-01-05T00:03:03.685737Z",
     "start_time": "2025-01-05T00:03:03.669557Z"
    }
   },
   "cell_type": "code",
   "source": [
    "def partition_hoare(arr,l,r,dim):\n",
    "    pivot = arr[l][dim]\n",
    "    i = l-1\n",
    "    j = r+1\n",
    "    while True:\n",
    "        i+=1\n",
    "        while arr[i][dim] < pivot:\n",
    "            i+=1\n",
    "        j-=1\n",
    "        while arr[j][dim] > pivot:\n",
    "            j-=1\n",
    "        if i>=j:\n",
    "            return j\n",
    "        arr[i],arr[j] = arr[j],arr[i]\n",
    "\n",
    "\n",
    "def quicksort(arr,l,r,dim):\n",
    "    if l<r:\n",
    "        q = partition_hoare(arr,l,r,dim)\n",
    "        quicksort(arr,l,q,dim)\n",
    "        quicksort(arr,q+1,r,dim)"
   ],
   "id": "2f2ed1b9bba2ce87",
   "outputs": [],
   "execution_count": 5
  },
  {
   "metadata": {},
   "cell_type": "markdown",
   "source": "### Implementacja klasy KDTree",
   "id": "431634e933566e2a"
  },
  {
   "metadata": {
    "ExecuteTime": {
     "end_time": "2025-01-04T19:04:12.201592Z",
     "start_time": "2025-01-04T19:04:12.169147Z"
    }
   },
   "cell_type": "code",
   "source": [
    "class KDtree:\n",
    "    class Vertex:\n",
    "        def __init__(self, point, left=None, right=None):\n",
    "            self.divider = point\n",
    "            self.left = None\n",
    "            self.right = None\n",
    "\n",
    "        def getclass(self):\n",
    "            return self.__class__\n",
    "\n",
    "    class Leaf:\n",
    "        def __init__(self, point):\n",
    "            self.point = point\n",
    "\n",
    "        def getclass(self):\n",
    "            return self.__class__\n",
    "\n",
    "    def __init__(self,points):\n",
    "        new_points = []\n",
    "        for i in range(2):\n",
    "            new_points.append(self.sort_by_dim(points,i))\n",
    "        self.root = self.build_tree(new_points,0)\n",
    "\n",
    "\n",
    "    def get_root(self):\n",
    "        return self.root\n",
    "\n",
    "    @staticmethod\n",
    "    def sort_by_dim(points, dim):\n",
    "        sorted_points = points[:]\n",
    "        quicksort(sorted_points, 0, len(points) - 1, dim)\n",
    "        return sorted_points\n",
    "\n",
    "    def divide_points(self,points,dim):\n",
    "        if not points[dim]:\n",
    "            return None\n",
    "        if len(points[dim]) == 1:\n",
    "            return points[dim][0], [], []\n",
    "        median = points[dim][(len(points[dim])-1) // 2][dim]\n",
    "        median_point = points[dim][(len(points[dim])-1) // 2]\n",
    "        left = []\n",
    "        right = []\n",
    "        for i in range(2):\n",
    "            left_points = [point for point in points[i] if point[dim] <= median]\n",
    "            right_points = [point for point in points[i] if point[dim] > median]\n",
    "            left.append(left_points)\n",
    "            right.append(right_points)\n",
    "        return median_point, left, right\n",
    "\n",
    "    def build_tree(self,points,depth):\n",
    "        dim = depth % 2\n",
    "        if len(points[dim]) == 1:\n",
    "            return self.Leaf(points[dim][0])\n",
    "        division = self.divide_points(points,dim)\n",
    "        if division:\n",
    "            median, left, right = division\n",
    "        else:\n",
    "            return None\n",
    "        root = self.Vertex(median[dim])\n",
    "        root.left = self.build_tree(left,depth+1)\n",
    "        root.right = self.build_tree(right,depth+1)\n",
    "        return root\n",
    "\n",
    "\n",
    "    def search_area(self,area,root,depth):\n",
    "        if root is None:\n",
    "            return []\n",
    "        left = []\n",
    "        right = []\n",
    "        if root.getclass() == self.Vertex:\n",
    "            dim = depth % 2\n",
    "            if area[0][dim] <= root.divider:\n",
    "                left = self.search_area(area,root.left,depth+1)\n",
    "            else:\n",
    "                left = []\n",
    "            if area[1][dim] >= root.divider:\n",
    "                right = self.search_area(area,root.right,depth+1)\n",
    "            else:\n",
    "                right = []\n",
    "        else:\n",
    "            if root.getclass() == self.Leaf and area[0][0] <= root.point[0] <= area[1][0] and area[0][1] <= root.point[1] <= area[1][1]:\n",
    "                return left + [root.point] + right\n",
    "        return left + right"
   ],
   "id": "aaf32b0384719182",
   "outputs": [],
   "execution_count": 7
  },
  {
   "metadata": {},
   "cell_type": "markdown",
   "source": [
    "### Wizualizacja drzewa KD-Tree\n",
    "\n"
   ],
   "id": "5a3fba1c41c93560"
  },
  {
   "metadata": {
    "ExecuteTime": {
     "end_time": "2025-01-05T00:05:50.132572Z",
     "start_time": "2025-01-05T00:05:50.119266Z"
    }
   },
   "cell_type": "code",
   "source": [
    "class KDtree_w_visualization:\n",
    "    class Vertex:\n",
    "        def __init__(self, point, left=None, right=None):\n",
    "            self.divider = point\n",
    "            self.left = None\n",
    "            self.right = None\n",
    "\n",
    "        def getclass(self):\n",
    "            return self.__class__\n",
    "\n",
    "    class Leaf:\n",
    "        def __init__(self, point):\n",
    "            self.point = point\n",
    "\n",
    "        def getclass(self):\n",
    "            return self.__class__\n",
    "\n",
    "    def __init__(self,points):\n",
    "        self.vis = Visualizer()\n",
    "        self.vis.add_point(points)\n",
    "        new_points = []\n",
    "        for i in range(2):\n",
    "            new_points.append(self.sort_by_dim(points,i))\n",
    "        self.root = self.build_tree(new_points,0,self.vis)\n",
    "\n",
    "    def visualize(self):\n",
    "        return self.vis.show()\n",
    "\n",
    "\n",
    "    def get_root(self):\n",
    "        return self.root\n",
    "\n",
    "    @staticmethod\n",
    "    def sort_by_dim(points, dim):\n",
    "        sorted_points = points[:]\n",
    "        quicksort(sorted_points, 0, len(points) - 1, dim)\n",
    "        return sorted_points\n",
    "\n",
    "    def divide_points(self,points,dim):\n",
    "        if not points[dim]:\n",
    "            return None\n",
    "        if len(points[dim]) == 1:\n",
    "            return points[dim][0], [], []\n",
    "        median = points[dim][(len(points[dim])-1) // 2][dim]\n",
    "        median_point = points[dim][(len(points[dim])-1) // 2]\n",
    "        left = []\n",
    "        right = []\n",
    "        for i in range(2):\n",
    "            left_points = [point for point in points[i] if point[dim] <= median]\n",
    "            right_points = [point for point in points[i] if point[dim] > median]\n",
    "            left.append(left_points)\n",
    "            right.append(right_points)\n",
    "        return median_point, left, right\n",
    "\n",
    "    def build_tree(self,points,depth,vis):\n",
    "        dim = depth % 2\n",
    "        if len(points[dim]) == 1:\n",
    "            return self.Leaf(points[dim][0])\n",
    "        division = self.divide_points(points,dim)\n",
    "        if division:\n",
    "            median, left, right = division\n",
    "        else:\n",
    "            return None\n",
    "        root = self.Vertex(median[dim])\n",
    "        if dim == 0:\n",
    "            vis.add_line([(0,median[dim]),(10,median[dim)],color = 'blue')\n",
    "        else:\n",
    "            vis.add_line([(median[dim],0),(median[dim],10)],color = 'blue')\n",
    "        root.left = self.build_tree(left,depth+1,vis)\n",
    "        root.right = self.build_tree(right,depth+1,vis)\n",
    "        return root\n",
    "\n",
    "\n",
    "    def search_area(self,area,root,depth):\n",
    "        if root is None:\n",
    "            return []\n",
    "        left = []\n",
    "        right = []\n",
    "        if root.getclass() == self.Vertex:\n",
    "            dim = depth % 2\n",
    "            if area[0][dim] <= root.divider:\n",
    "                left = self.search_area(area,root.left,depth+1)\n",
    "            else:\n",
    "                left = []\n",
    "            if area[1][dim] >= root.divider:\n",
    "                right = self.search_area(area,root.right,depth+1)\n",
    "            else:\n",
    "                right = []\n",
    "        else:\n",
    "            if root.getclass() == self.Leaf and area[0][0] <= root.point[0] <= area[1][0] and area[0][1] <= root.point[1] <= area[1][1]:\n",
    "                return left + [root.point] + right\n",
    "        return left + right"
   ],
   "id": "77dc4a6957e77e7a",
   "outputs": [],
   "execution_count": 13
  },
  {
   "metadata": {
    "ExecuteTime": {
     "end_time": "2025-01-05T00:05:53.675386Z",
     "start_time": "2025-01-05T00:05:53.531240Z"
    }
   },
   "cell_type": "code",
   "source": [
    "test_data = [(1,1),(2,3),(0.5,4),(5.5,4.5),(6,2),(4,2.5),(3.5,6),(4.5,3.5)]\n",
    "kdtree = KDtree_w_visualization(test_data)\n",
    "kdtree.visualize()"
   ],
   "id": "b743f7d325518075",
   "outputs": [
    {
     "data": {
      "text/plain": [
       "<Figure size 640x480 with 1 Axes>"
      ],
      "image/png": "[encoded data removed]"
     },
     "metadata": {},
     "output_type": "display_data"
    }
   ],
   "execution_count": 14
  }
 ],
 "metadata": {
  "kernelspec": {
   "name": "python3",
   "language": "python",
   "display_name": "Python 3 (ipykernel)"
  }
 },
 "nbformat": 5,
 "nbformat_minor": 9
}
